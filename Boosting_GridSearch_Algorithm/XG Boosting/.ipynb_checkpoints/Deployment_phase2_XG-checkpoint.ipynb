{
 "cells": [
  {
   "cell_type": "code",
   "execution_count": 1,
   "id": "4c6af156",
   "metadata": {},
   "outputs": [
    {
     "data": {
      "text/plain": [
       "array([186976.33443278])"
      ]
     },
     "execution_count": 1,
     "metadata": {},
     "output_type": "execute_result"
    }
   ],
   "source": [
    "import pickle\n",
    "loaded_model=pickle.load(open(\"finalised_XG_boosting.sav\",'rb'))\n",
    "result=loaded_model.predict([[149869,8765,17543,0,1]])\n",
    "result"
   ]
  }
 ],
 "metadata": {
  "kernelspec": {
   "display_name": "Python 3 (ipykernel)",
   "language": "python",
   "name": "python3"
  },
  "language_info": {
   "codemirror_mode": {
    "name": "ipython",
    "version": 3
   },
   "file_extension": ".py",
   "mimetype": "text/x-python",
   "name": "python",
   "nbconvert_exporter": "python",
   "pygments_lexer": "ipython3",
   "version": "3.11.5"
  }
 },
 "nbformat": 4,
 "nbformat_minor": 5
}
